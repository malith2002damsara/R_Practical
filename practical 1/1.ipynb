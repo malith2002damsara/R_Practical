{
 "cells": [
  {
   "cell_type": "code",
   "execution_count": null,
   "id": "d72e959d-0d66-4cd9-8224-7361752ba10c",
   "metadata": {
    "vscode": {
     "languageId": "r"
    }
   },
   "outputs": [
    {
     "data": {
      "text/html": [
       "'C:/Users/damsara/Desktop'"
      ],
      "text/latex": [
       "'C:/Users/damsara/Desktop'"
      ],
      "text/markdown": [
       "'C:/Users/damsara/Desktop'"
      ],
      "text/plain": [
       "[1] \"C:/Users/damsara/Desktop\""
      ]
     },
     "metadata": {},
     "output_type": "display_data"
    }
   ],
   "source": [
    "# Question 1 \n",
    "\n",
    "getwd()\n"
   ]
  },
  {
   "cell_type": "code",
   "execution_count": null,
   "id": "eabc9c3e-934c-489c-8ece-63effc42ebde",
   "metadata": {
    "vscode": {
     "languageId": "r"
    }
   },
   "outputs": [],
   "source": [
    "setwd(\"C:/Users/damsara/Desktop\")"
   ]
  },
  {
   "cell_type": "code",
   "execution_count": null,
   "id": "e7abf1a8-a521-40b8-869d-9cc96adf8224",
   "metadata": {
    "vscode": {
     "languageId": "r"
    }
   },
   "outputs": [],
   "source": [
    "set.seed(22000275)"
   ]
  },
  {
   "cell_type": "code",
   "execution_count": null,
   "id": "72d6d6b6-fbd8-46c9-a129-44df563c8452",
   "metadata": {
    "vscode": {
     "languageId": "r"
    }
   },
   "outputs": [],
   "source": [
    "library(dplyr)\n",
    "library(ggplot2)"
   ]
  },
  {
   "cell_type": "code",
   "execution_count": null,
   "id": "750ecc10-16e8-4595-a206-c3b23cc61fc6",
   "metadata": {
    "vscode": {
     "languageId": "r"
    }
   },
   "outputs": [],
   "source": [
    "# I\n",
    "employee_ids <- paste0(\"E\", 1001:1050)"
   ]
  },
  {
   "cell_type": "code",
   "execution_count": null,
   "id": "4ef61e58-6e95-4bee-878b-e086b9cce631",
   "metadata": {
    "vscode": {
     "languageId": "r"
    }
   },
   "outputs": [],
   "source": [
    "# II\n",
    "gender <- sample(c(\"Male\", \"Female\"), 50, replace = TRUE, prob = c(6, 2))"
   ]
  },
  {
   "cell_type": "code",
   "execution_count": null,
   "id": "bb9a5eae-38b8-48b3-8b92-8f1d4aa90c08",
   "metadata": {
    "vscode": {
     "languageId": "r"
    }
   },
   "outputs": [],
   "source": [
    "# III\n",
    "age <- sample(25:40, 50, replace = TRUE)"
   ]
  },
  {
   "cell_type": "code",
   "execution_count": null,
   "id": "4ad3acbf-a904-4ff3-9296-d52a164c5402",
   "metadata": {
    "vscode": {
     "languageId": "r"
    }
   },
   "outputs": [],
   "source": [
    "# IV\n",
    "job_positions <- sample(c(\"Software Engineer\", \"Data Analyst\", \"System Administrator\", \"Project Manager\"), 50, replace = TRUE)"
   ]
  },
  {
   "cell_type": "code",
   "execution_count": null,
   "id": "6e7e098c-59ca-4158-ab3f-4b9e1a147158",
   "metadata": {
    "vscode": {
     "languageId": "r"
    }
   },
   "outputs": [],
   "source": [
    "# V\n",
    "salary <- sample(seq(100000, 200000, by = 5000), 50, replace = TRUE)"
   ]
  },
  {
   "cell_type": "code",
   "execution_count": null,
   "id": "90990ad3-c854-4acb-8976-17f563895550",
   "metadata": {
    "vscode": {
     "languageId": "r"
    }
   },
   "outputs": [],
   "source": [
    "# VI\n",
    "departments <- sample(c(\"IT\", \"Finance\", \"HR\", \"Marketing\"), 50, replace = TRUE)"
   ]
  },
  {
   "cell_type": "code",
   "execution_count": null,
   "id": "5d1bf052-0399-4ee6-aebd-55033ac5567b",
   "metadata": {
    "vscode": {
     "languageId": "r"
    }
   },
   "outputs": [],
   "source": [
    "# VII\n",
    "bonus <- sample(seq(5000, 20000, by = 1000), 50, replace = TRUE)\n"
   ]
  },
  {
   "cell_type": "code",
   "execution_count": null,
   "id": "590d7e09-1f72-44f1-a7a9-b6ae367fdd4c",
   "metadata": {
    "vscode": {
     "languageId": "r"
    }
   },
   "outputs": [],
   "source": [
    "# VIII\n",
    "years_of_experience <- sample(1:15, 50, replace = TRUE)"
   ]
  },
  {
   "cell_type": "code",
   "execution_count": null,
   "id": "2412525f-7ee9-4d44-bb4c-498b0e1e780b",
   "metadata": {
    "vscode": {
     "languageId": "r"
    }
   },
   "outputs": [],
   "source": [
    "# IX\n",
    "performance_rating <- sample(1:5, 50, replace = TRUE)"
   ]
  },
  {
   "cell_type": "code",
   "execution_count": null,
   "id": "4149d461-d74a-4b8c-8de5-c97039015ff9",
   "metadata": {
    "vscode": {
     "languageId": "r"
    }
   },
   "outputs": [],
   "source": [
    "# X\n",
    "remote_eligibility <- sample(c(\"Eligible\", \"Not Eligible\"), 50, replace = TRUE, prob = c(0.6, 0.4))"
   ]
  },
  {
   "cell_type": "code",
   "execution_count": null,
   "id": "43344e1b-12dc-477e-927a-8cec78a4ff27",
   "metadata": {
    "vscode": {
     "languageId": "r"
    }
   },
   "outputs": [],
   "source": [
    "employee_data <- data.frame(\n",
    "  EmployeeID = employee_ids,\n",
    "  Gender = gender,\n",
    "  Age = age,\n",
    "  JobPosition = job_positions,\n",
    "  Salary = salary,\n",
    "  Department = departments,\n",
    "  Bonus = bonus,\n",
    "  YearsOfExperience = years_of_experience,\n",
    "  PerformanceRating = performance_rating,\n",
    "  RemoteEligibility = remote_eligibility\n",
    ")"
   ]
  },
  {
   "cell_type": "code",
   "execution_count": null,
   "id": "ad19b6e7-5806-48d4-889d-ddc76616978d",
   "metadata": {
    "vscode": {
     "languageId": "r"
    }
   },
   "outputs": [
    {
     "name": "stdout",
     "output_type": "stream",
     "text": [
      "'data.frame':\t50 obs. of  10 variables:\n",
      " $ EmployeeID       : chr  \"E1001\" \"E1002\" \"E1003\" \"E1004\" ...\n",
      " $ Gender           : chr  \"Female\" \"Male\" \"Female\" \"Male\" ...\n",
      " $ Age              : int  34 33 31 37 36 33 32 37 35 31 ...\n",
      " $ JobPosition      : chr  \"System Administrator\" \"Project Manager\" \"System Administrator\" \"System Administrator\" ...\n",
      " $ Salary           : num  125000 105000 120000 200000 170000 160000 130000 150000 135000 130000 ...\n",
      " $ Department       : chr  \"IT\" \"Finance\" \"HR\" \"Marketing\" ...\n",
      " $ Bonus            : num  13000 17000 14000 16000 10000 10000 19000 19000 17000 14000 ...\n",
      " $ YearsOfExperience: int  1 8 14 15 4 11 9 7 15 2 ...\n",
      " $ PerformanceRating: int  3 2 2 2 3 3 5 3 4 1 ...\n",
      " $ RemoteEligibility: chr  \"Eligible\" \"Not Eligible\" \"Eligible\" \"Eligible\" ...\n"
     ]
    }
   ],
   "source": [
    "# a\n",
    "str(employee_data)"
   ]
  },
  {
   "cell_type": "code",
   "execution_count": null,
   "id": "9ae3f910-9c4e-43df-bf5b-37eef86261f3",
   "metadata": {
    "vscode": {
     "languageId": "r"
    }
   },
   "outputs": [
    {
     "data": {
      "text/plain": [
       "      Age            Salary           Bonus       YearsOfExperience\n",
       " Min.   :25.00   Min.   :100000   Min.   : 5000   Min.   : 1.00    \n",
       " 1st Qu.:29.25   1st Qu.:121250   1st Qu.:10000   1st Qu.: 5.25    \n",
       " Median :33.00   Median :145000   Median :13000   Median : 8.00    \n",
       " Mean   :32.60   Mean   :150500   Mean   :12860   Mean   : 8.30    \n",
       " 3rd Qu.:35.75   3rd Qu.:183750   3rd Qu.:16750   3rd Qu.:12.00    \n",
       " Max.   :40.00   Max.   :200000   Max.   :20000   Max.   :15.00    \n",
       " PerformanceRating\n",
       " Min.   :1.00     \n",
       " 1st Qu.:2.00     \n",
       " Median :3.00     \n",
       " Mean   :3.14     \n",
       " 3rd Qu.:4.00     \n",
       " Max.   :5.00     "
      ]
     },
     "metadata": {},
     "output_type": "display_data"
    }
   ],
   "source": [
    "# b\n",
    "summary(employee_data[, c(\"Age\", \"Salary\", \"Bonus\", \"YearsOfExperience\", \"PerformanceRating\")])"
   ]
  },
  {
   "cell_type": "code",
   "execution_count": null,
   "id": "8710a134-067b-4572-b27c-0541050993ef",
   "metadata": {
    "vscode": {
     "languageId": "r"
    }
   },
   "outputs": [],
   "source": [
    "# c\n",
    "employee_data$TotalCompensation <- employee_data$Salary + employee_data$Bonus"
   ]
  },
  {
   "cell_type": "code",
   "execution_count": null,
   "id": "9c2dc7cb-93c8-4551-b5e5-2cf11f515bc2",
   "metadata": {
    "vscode": {
     "languageId": "r"
    }
   },
   "outputs": [],
   "source": [
    "# d\n",
    "employee_data$EmployeeID <- as.factor(employee_data$EmployeeID)"
   ]
  },
  {
   "cell_type": "code",
   "execution_count": null,
   "id": "2e3ffe7d-c4b5-4732-852e-24080385b3bf",
   "metadata": {
    "vscode": {
     "languageId": "r"
    }
   },
   "outputs": [],
   "source": [
    "# e\n",
    "it_remote_employees <- employee_data %>% filter(Department == \"IT\" & RemoteEligibility == \"Eligible\")"
   ]
  },
  {
   "cell_type": "code",
   "execution_count": null,
   "id": "09cf1047-a96c-4c49-b6d2-97cac8588bd1",
   "metadata": {
    "vscode": {
     "languageId": "r"
    }
   },
   "outputs": [],
   "source": [
    "# f\n",
    "high_performers <- employee_data %>% filter(PerformanceRating >= 4)"
   ]
  },
  {
   "cell_type": "code",
   "execution_count": null,
   "id": "5ba8857a-1983-47cc-96f1-b84c5de922c2",
   "metadata": {
    "vscode": {
     "languageId": "r"
    }
   },
   "outputs": [],
   "source": [
    "# g\n",
    "avg_salary_by_dept <- employee_data %>% group_by(Department) %>% summarise(AvgSalary = mean(Salary))"
   ]
  },
  {
   "cell_type": "code",
   "execution_count": null,
   "id": "1e729ca7-adf6-4eea-bd5d-1cc171ba94a6",
   "metadata": {
    "vscode": {
     "languageId": "r"
    }
   },
   "outputs": [],
   "source": [
    "# h\n",
    "gender_proportion <- employee_data %>% group_by(Gender) %>% summarise(Proportion = n() / nrow(employee_data))"
   ]
  },
  {
   "cell_type": "code",
   "execution_count": null,
   "id": "f407bd0f-a73d-424d-9a4c-2bc7f7b37818",
   "metadata": {
    "vscode": {
     "languageId": "r"
    }
   },
   "outputs": [
    {
     "data": {
      "image/png": "[encoded data removed]",
      "text/plain": [
       "plot without title"
      ]
     },
     "metadata": {
      "image/png": {
       "height": 420,
       "width": 420
      }
     },
     "output_type": "display_data"
    }
   ],
   "source": [
    "# i\n",
    "ggplot(employee_data, aes(x = Age)) + geom_histogram(binwidth = 1, fill = \"blue\", color = \"black\") + labs(title = \"Distribution of Employee Ages\")"
   ]
  },
  {
   "cell_type": "code",
   "execution_count": 107,
   "id": "6c3c202a-d325-4565-bc61-df5d474bb6f8",
   "metadata": {
    "vscode": {
     "languageId": "r"
    }
   },
   "outputs": [
    {
     "data": {
      "image/png": "[encoded data removed]",
      "text/plain": [
       "plot without title"
      ]
     },
     "metadata": {
      "image/png": {
       "height": 420,
       "width": 420
      }
     },
     "output_type": "display_data"
    }
   ],
   "source": [
    "# j\n",
    "ggplot(employee_data, aes(x = JobPosition, y = Salary)) + geom_boxplot(fill = \"orange\") + labs(title = \"Salary Distribution by Job Position\")"
   ]
  },
  {
   "cell_type": "code",
   "execution_count": 108,
   "id": "8e3908ce-f0a9-4f8b-a6a5-236d34347843",
   "metadata": {
    "vscode": {
     "languageId": "r"
    }
   },
   "outputs": [
    {
     "data": {
      "image/png": "[encoded data removed]",
      "text/plain": [
       "plot without title"
      ]
     },
     "metadata": {
      "image/png": {
       "height": 420,
       "width": 420
      }
     },
     "output_type": "display_data"
    }
   ],
   "source": [
    "ggplot(employee_data, aes(x = YearsOfExperience, y = Salary)) + geom_point() +  geom_smooth(method = \"lm\", color = \"red\", formula = y ~ x) +  labs(title = \"Years of Experience vs Salary\")"
   ]
  },
  {
   "cell_type": "code",
   "execution_count": 109,
   "id": "2051d718-5017-43ef-a64a-0e4860f025d4",
   "metadata": {
    "vscode": {
     "languageId": "r"
    }
   },
   "outputs": [],
   "source": [
    "# l\n",
    "avg_bonus_rating_by_position <- employee_data %>% group_by(JobPosition) %>% summarise(AvgBonus = mean(Bonus), AvgRating = mean(PerformanceRating))"
   ]
  },
  {
   "cell_type": "code",
   "execution_count": 110,
   "id": "b26c124f-3e3e-46f3-91ff-bc61d3c4ffaa",
   "metadata": {
    "vscode": {
     "languageId": "r"
    }
   },
   "outputs": [],
   "source": [
    "# m\n",
    "avg_experience_by_gender <- employee_data %>% group_by(Gender) %>% summarise(AvgYearsOfExperience = mean(YearsOfExperience))\n"
   ]
  },
  {
   "cell_type": "code",
   "execution_count": 111,
   "id": "352502cd-4008-4c99-9d8d-3ddf9aa22dd9",
   "metadata": {
    "vscode": {
     "languageId": "r"
    }
   },
   "outputs": [
    {
     "data": {
      "text/html": [
       "<style>\n",
       ".list-inline {list-style: none; margin:0; padding: 0}\n",
       ".list-inline>li {display: inline-block}\n",
       ".list-inline>li:not(:last-child)::after {content: \"\\00b7\"; padding: 0 .5ex}\n",
       "</style>\n",
       "<ol class=list-inline><li>117880.968555785</li><li>159452.364777548</li></ol>\n"
      ],
      "text/latex": [
       "\\begin{enumerate*}\n",
       "\\item 117880.968555785\n",
       "\\item 159452.364777548\n",
       "\\end{enumerate*}\n"
      ],
      "text/markdown": [
       "1. 117880.968555785\n",
       "2. 159452.364777548\n",
       "\n",
       "\n"
      ],
      "text/plain": [
       "[1] 117881.0 159452.4\n",
       "attr(,\"conf.level\")\n",
       "[1] 0.95"
      ]
     },
     "metadata": {},
     "output_type": "display_data"
    }
   ],
   "source": [
    "# n\n",
    "finance_salary <- employee_data %>% filter(Department == \"Finance\") %>% pull(Salary)\n",
    "finance_ci <- t.test(finance_salary, conf.level = 0.95)$conf.int\n",
    "finance_ci"
   ]
  },
  {
   "cell_type": "code",
   "execution_count": 112,
   "id": "b7c9a942-f36e-45de-a8b8-2fb740d72169",
   "metadata": {
    "vscode": {
     "languageId": "r"
    }
   },
   "outputs": [
    {
     "data": {
      "text/html": [
       "<dl>\n",
       "\t<dt>$NumEmployees</dt>\n",
       "\t\t<dd>15</dd>\n",
       "\t<dt>$AvgSalary</dt>\n",
       "\t\t<dd>151333.333333333</dd>\n",
       "\t<dt>$AvgPerformanceRating</dt>\n",
       "\t\t<dd>3.2</dd>\n",
       "</dl>\n"
      ],
      "text/latex": [
       "\\begin{description}\n",
       "\\item[\\$NumEmployees] 15\n",
       "\\item[\\$AvgSalary] 151333.333333333\n",
       "\\item[\\$AvgPerformanceRating] 3.2\n",
       "\\end{description}\n"
      ],
      "text/markdown": [
       "$NumEmployees\n",
       ":   15\n",
       "$AvgSalary\n",
       ":   151333.333333333\n",
       "$AvgPerformanceRating\n",
       ":   3.2\n",
       "\n",
       "\n"
      ],
      "text/plain": [
       "$NumEmployees\n",
       "[1] 15\n",
       "\n",
       "$AvgSalary\n",
       "[1] 151333.3\n",
       "\n",
       "$AvgPerformanceRating\n",
       "[1] 3.2\n"
      ]
     },
     "metadata": {},
     "output_type": "display_data"
    }
   ],
   "source": [
    "# o\n",
    "department_stats <- function(dept_name) {\n",
    "  dept_data <- employee_data %>% filter(Department == dept_name)\n",
    "  list(\n",
    "    NumEmployees = nrow(dept_data),\n",
    "    AvgSalary = mean(dept_data$Salary),\n",
    "    AvgPerformanceRating = mean(dept_data$PerformanceRating)\n",
    "  )\n",
    "}\n",
    "\n",
    "hr_stats <- department_stats(\"HR\")\n",
    "hr_stats"
   ]
  },
  {
   "cell_type": "code",
   "execution_count": 113,
   "id": "333049de-5545-4b9f-9cff-f77771dae2ad",
   "metadata": {
    "vscode": {
     "languageId": "r"
    }
   },
   "outputs": [
    {
     "data": {
      "text/html": [
       "-0.0156497506080928"
      ],
      "text/latex": [
       "-0.0156497506080928"
      ],
      "text/markdown": [
       "-0.0156497506080928"
      ],
      "text/plain": [
       "[1] -0.01564975"
      ]
     },
     "metadata": {},
     "output_type": "display_data"
    }
   ],
   "source": [
    "# p\n",
    "correlation <- cor(employee_data$YearsOfExperience, employee_data$Salary)\n",
    "correlation"
   ]
  },
  {
   "cell_type": "code",
   "execution_count": 114,
   "id": "444a0c66-c0e7-468c-9133-136021232689",
   "metadata": {
    "vscode": {
     "languageId": "r"
    }
   },
   "outputs": [
    {
     "data": {
      "text/plain": [
       "\n",
       "Call:\n",
       "lm(formula = Salary ~ YearsOfExperience, data = employee_data)\n",
       "\n",
       "Residuals:\n",
       "   Min     1Q Median     3Q    Max \n",
       "-50656 -28956  -5536  33064  50303 \n",
       "\n",
       "Coefficients:\n",
       "                  Estimate Std. Error t value Pr(>|t|)    \n",
       "(Intercept)       151494.9    10349.9  14.637   <2e-16 ***\n",
       "YearsOfExperience   -119.9     1105.4  -0.108    0.914    \n",
       "---\n",
       "Signif. codes:  0 '***' 0.001 '**' 0.01 '*' 0.05 '.' 0.1 ' ' 1\n",
       "\n",
       "Residual standard error: 33870 on 48 degrees of freedom\n",
       "Multiple R-squared:  0.0002449,\tAdjusted R-squared:  -0.02058 \n",
       "F-statistic: 0.01176 on 1 and 48 DF,  p-value: 0.9141\n"
      ]
     },
     "metadata": {},
     "output_type": "display_data"
    }
   ],
   "source": [
    "# q\n",
    "salary_model <- lm(Salary ~ YearsOfExperience, data = employee_data)\n",
    "summary(salary_model)"
   ]
  },
  {
   "cell_type": "code",
   "execution_count": 115,
   "id": "51494dc6-a448-498d-b9d2-2115878a6a4b",
   "metadata": {
    "vscode": {
     "languageId": "r"
    }
   },
   "outputs": [],
   "source": [
    "# r\n",
    "write.csv(employee_data, \"employee_data.csv\", row.names = FALSE)"
   ]
  },
  {
   "cell_type": "code",
   "execution_count": 116,
   "id": "832d9608-1bd8-43a1-bc31-de90fafb0e81",
   "metadata": {
    "vscode": {
     "languageId": "r"
    }
   },
   "outputs": [
    {
     "data": {
      "text/html": [
       "'C:/Users/damsara/Desktop'"
      ],
      "text/latex": [
       "'C:/Users/damsara/Desktop'"
      ],
      "text/markdown": [
       "'C:/Users/damsara/Desktop'"
      ],
      "text/plain": [
       "[1] \"C:/Users/damsara/Desktop\""
      ]
     },
     "metadata": {},
     "output_type": "display_data"
    }
   ],
   "source": [
    "# Question 2\n",
    "\n",
    "getwd()"
   ]
  },
  {
   "cell_type": "code",
   "execution_count": 117,
   "id": "f0e18641-a043-43c3-8379-6eee5d62ee6f",
   "metadata": {
    "vscode": {
     "languageId": "r"
    }
   },
   "outputs": [],
   "source": [
    "# a\n",
    "library(carData)\n",
    "data(\"Davis\")"
   ]
  },
  {
   "cell_type": "code",
   "execution_count": 118,
   "id": "412f4314-ec22-44bf-bb9e-77bb6a472745",
   "metadata": {
    "vscode": {
     "languageId": "r"
    }
   },
   "outputs": [
    {
     "data": {
      "text/plain": [
       " sex         weight          height          repwt            repht      \n",
       " F:112   Min.   : 39.0   Min.   : 57.0   Min.   : 41.00   Min.   :148.0  \n",
       " M: 88   1st Qu.: 55.0   1st Qu.:164.0   1st Qu.: 55.00   1st Qu.:160.5  \n",
       "         Median : 63.0   Median :169.5   Median : 63.00   Median :168.0  \n",
       "         Mean   : 65.8   Mean   :170.0   Mean   : 65.62   Mean   :168.5  \n",
       "         3rd Qu.: 74.0   3rd Qu.:177.2   3rd Qu.: 73.50   3rd Qu.:175.0  \n",
       "         Max.   :166.0   Max.   :197.0   Max.   :124.00   Max.   :200.0  \n",
       "                                         NA's   :17       NA's   :17     "
      ]
     },
     "metadata": {},
     "output_type": "display_data"
    }
   ],
   "source": [
    "# b\n",
    "summary(Davis)"
   ]
  },
  {
   "cell_type": "code",
   "execution_count": 119,
   "id": "66d7e1e1-285b-48cc-b868-c9d2cca225e8",
   "metadata": {
    "vscode": {
     "languageId": "r"
    }
   },
   "outputs": [
    {
     "data": {
      "text/html": [
       "0.44"
      ],
      "text/latex": [
       "0.44"
      ],
      "text/markdown": [
       "0.44"
      ],
      "text/plain": [
       "[1] 0.44"
      ]
     },
     "metadata": {},
     "output_type": "display_data"
    }
   ],
   "source": [
    "# c\n",
    "male_proportion <- sum(Davis$sex == \"M\") / nrow(Davis)\n",
    "male_proportion"
   ]
  },
  {
   "cell_type": "code",
   "execution_count": 120,
   "id": "c8d72485-1d6a-46a9-9d09-f68217ce1249",
   "metadata": {
    "vscode": {
     "languageId": "r"
    }
   },
   "outputs": [],
   "source": [
    "# d\n",
    "males <- subset(Davis, sex == \"M\")\n",
    "females <- subset(Davis, sex == \"F\")"
   ]
  },
  {
   "cell_type": "code",
   "execution_count": 121,
   "id": "bc3370a3-5bb9-4f22-8ee2-7382bef4f54f",
   "metadata": {
    "vscode": {
     "languageId": "r"
    }
   },
   "outputs": [
    {
     "data": {
      "text/html": [
       "<dl>\n",
       "\t<dt>$Male_Height</dt>\n",
       "\t\t<dd><style>\n",
       ".dl-inline {width: auto; margin:0; padding: 0}\n",
       ".dl-inline>dt, .dl-inline>dd {float: none; width: auto; display: inline-block}\n",
       ".dl-inline>dt::after {content: \":\\0020\"; padding-right: .5ex}\n",
       ".dl-inline>dt:not(:first-of-type) {padding-left: .5ex}\n",
       "</style><dl class=dl-inline><dt>Mean</dt><dd>178.011363636364</dd><dt>Variance</dt><dd>41.4826280041797</dd><dt>SD</dt><dd>6.44070089386083</dd></dl>\n",
       "</dd>\n",
       "\t<dt>$Female_Height</dt>\n",
       "\t\t<dd><style>\n",
       ".dl-inline {width: auto; margin:0; padding: 0}\n",
       ".dl-inline>dt, .dl-inline>dd {float: none; width: auto; display: inline-block}\n",
       ".dl-inline>dt::after {content: \":\\0020\"; padding-right: .5ex}\n",
       ".dl-inline>dt:not(:first-of-type) {padding-left: .5ex}\n",
       "</style><dl class=dl-inline><dt>Mean</dt><dd>163.741071428571</dd><dt>Variance</dt><dd>135.581000643501</dd><dt>SD</dt><dd>11.6439254825639</dd></dl>\n",
       "</dd>\n",
       "</dl>\n"
      ],
      "text/latex": [
       "\\begin{description}\n",
       "\\item[\\$Male\\_Height] \\begin{description*}\n",
       "\\item[Mean] 178.011363636364\n",
       "\\item[Variance] 41.4826280041797\n",
       "\\item[SD] 6.44070089386083\n",
       "\\end{description*}\n",
       "\n",
       "\\item[\\$Female\\_Height] \\begin{description*}\n",
       "\\item[Mean] 163.741071428571\n",
       "\\item[Variance] 135.581000643501\n",
       "\\item[SD] 11.6439254825639\n",
       "\\end{description*}\n",
       "\n",
       "\\end{description}\n"
      ],
      "text/markdown": [
       "$Male_Height\n",
       ":   Mean\n",
       ":   178.011363636364Variance\n",
       ":   41.4826280041797SD\n",
       ":   6.44070089386083\n",
       "\n",
       "\n",
       "$Female_Height\n",
       ":   Mean\n",
       ":   163.741071428571Variance\n",
       ":   135.581000643501SD\n",
       ":   11.6439254825639\n",
       "\n",
       "\n",
       "\n",
       "\n"
      ],
      "text/plain": [
       "$Male_Height\n",
       "      Mean   Variance         SD \n",
       "178.011364  41.482628   6.440701 \n",
       "\n",
       "$Female_Height\n",
       "     Mean  Variance        SD \n",
       "163.74107 135.58100  11.64393 \n"
      ]
     },
     "metadata": {},
     "output_type": "display_data"
    }
   ],
   "source": [
    "# e\n",
    "\n",
    "# male\n",
    "male_height_mean <- mean(males$height, na.rm = TRUE)\n",
    "male_height_var <- var(males$height, na.rm = TRUE)\n",
    "male_height_sd <- sd(males$height, na.rm = TRUE)\n",
    "\n",
    "# female\n",
    "female_height_mean <- mean(females$height, na.rm = TRUE)\n",
    "female_height_var <- var(females$height, na.rm = TRUE)\n",
    "female_height_sd <- sd(females$height, na.rm = TRUE)\n",
    "\n",
    "# Display result\n",
    "list(\n",
    "  Male_Height = c(Mean = male_height_mean, Variance = male_height_var, SD = male_height_sd),\n",
    "  Female_Height = c(Mean = female_height_mean, Variance = female_height_var, SD = female_height_sd)\n",
    ")"
   ]
  },
  {
   "cell_type": "code",
   "execution_count": 122,
   "id": "c9dda219-0bb2-4d35-84ff-a3b411f95a62",
   "metadata": {
    "vscode": {
     "languageId": "r"
    }
   },
   "outputs": [
    {
     "data": {
      "text/html": [
       "9.70745826666026"
      ],
      "text/latex": [
       "9.70745826666026"
      ],
      "text/markdown": [
       "9.70745826666026"
      ],
      "text/plain": [
       "[1] 9.707458"
      ]
     },
     "metadata": {},
     "output_type": "display_data"
    }
   ],
   "source": [
    "# f \n",
    "n1 <- nrow(males)\n",
    "n2 <- nrow(females)\n",
    "s1 <- male_height_sd\n",
    "s2 <- female_height_sd\n",
    "\n",
    "pooled_sd <- sqrt(((n1 - 1) * s1^2 + (n2 - 1) * s2^2) / (n1 + n2 - 2))\n",
    "pooled_sd"
   ]
  },
  {
   "cell_type": "code",
   "execution_count": 123,
   "id": "cb518b96-18e2-4824-9b1f-1f7002f32118",
   "metadata": {
    "vscode": {
     "languageId": "r"
    }
   },
   "outputs": [
    {
     "data": {
      "text/html": [
       "14.2702922077922"
      ],
      "text/latex": [
       "14.2702922077922"
      ],
      "text/markdown": [
       "14.2702922077922"
      ],
      "text/plain": [
       "[1] 14.27029"
      ]
     },
     "metadata": {},
     "output_type": "display_data"
    }
   ],
   "source": [
    "# g\n",
    "point_estimate <- male_height_mean - female_height_mean\n",
    "point_estimate"
   ]
  },
  {
   "cell_type": "code",
   "execution_count": 124,
   "id": "ff80ee6b-5986-417b-a6db-80f850540750",
   "metadata": {
    "vscode": {
     "languageId": "r"
    }
   },
   "outputs": [
    {
     "data": {
      "text/html": [
       "<style>\n",
       ".list-inline {list-style: none; margin:0; padding: 0}\n",
       ".list-inline>li {display: inline-block}\n",
       ".list-inline>li:not(:last-child)::after {content: \"\\00b7\"; padding: 0 .5ex}\n",
       "</style>\n",
       "<ol class=list-inline><li>11.5433185526732</li><li>16.9972658629112</li></ol>\n"
      ],
      "text/latex": [
       "\\begin{enumerate*}\n",
       "\\item 11.5433185526732\n",
       "\\item 16.9972658629112\n",
       "\\end{enumerate*}\n"
      ],
      "text/markdown": [
       "1. 11.5433185526732\n",
       "2. 16.9972658629112\n",
       "\n",
       "\n"
      ],
      "text/plain": [
       "[1] 11.54332 16.99727"
      ]
     },
     "metadata": {},
     "output_type": "display_data"
    }
   ],
   "source": [
    "# h\n",
    "t_critical <- qt(0.975, df = n1 + n2 - 2)  # t-score for 95% confidence level\n",
    "se <- pooled_sd * sqrt(1/n1 + 1/n2)\n",
    "ci_diff <- c(point_estimate - t_critical * se, point_estimate + t_critical * se)\n",
    "ci_diff"
   ]
  }
 ],
 "metadata": {
  "kernelspec": {
   "display_name": "R",
   "language": "R",
   "name": "ir"
  },
  "language_info": {
   "codemirror_mode": "r",
   "file_extension": ".r",
   "mimetype": "text/x-r-source",
   "name": "R",
   "pygments_lexer": "r",
   "version": "4.4.2"
  }
 },
 "nbformat": 4,
 "nbformat_minor": 5
}
