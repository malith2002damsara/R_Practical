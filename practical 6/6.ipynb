{
 "cells": [
  {
   "cell_type": "code",
   "execution_count": 1,
   "id": "df37c0d6-6e91-4e6c-a8c3-664e382d3437",
   "metadata": {
    "vscode": {
     "languageId": "r"
    }
   },
   "outputs": [
    {
     "name": "stderr",
     "output_type": "stream",
     "text": [
      "── \u001b[1mAttaching core tidyverse packages\u001b[22m ──────────────────────── tidyverse 2.0.0 ──\n",
      "\u001b[32m✔\u001b[39m \u001b[34mdplyr    \u001b[39m 1.1.4     \u001b[32m✔\u001b[39m \u001b[34mreadr    \u001b[39m 2.1.5\n",
      "\u001b[32m✔\u001b[39m \u001b[34mforcats  \u001b[39m 1.0.0     \u001b[32m✔\u001b[39m \u001b[34mstringr  \u001b[39m 1.5.1\n",
      "\u001b[32m✔\u001b[39m \u001b[34mggplot2  \u001b[39m 3.5.1     \u001b[32m✔\u001b[39m \u001b[34mtibble   \u001b[39m 3.2.1\n",
      "\u001b[32m✔\u001b[39m \u001b[34mlubridate\u001b[39m 1.9.4     \u001b[32m✔\u001b[39m \u001b[34mtidyr    \u001b[39m 1.3.1\n",
      "\u001b[32m✔\u001b[39m \u001b[34mpurrr    \u001b[39m 1.0.4     \n",
      "── \u001b[1mConflicts\u001b[22m ────────────────────────────────────────── tidyverse_conflicts() ──\n",
      "\u001b[31m✖\u001b[39m \u001b[34mdplyr\u001b[39m::\u001b[32mfilter()\u001b[39m masks \u001b[34mstats\u001b[39m::filter()\n",
      "\u001b[31m✖\u001b[39m \u001b[34mdplyr\u001b[39m::\u001b[32mlag()\u001b[39m    masks \u001b[34mstats\u001b[39m::lag()\n",
      "\u001b[36mℹ\u001b[39m Use the conflicted package (\u001b[3m\u001b[34m<http://conflicted.r-lib.org/>\u001b[39m\u001b[23m) to force all conflicts to become errors\n"
     ]
    }
   ],
   "source": [
    "library(tidyverse)\n",
    "library(ggplot2)"
   ]
  },
  {
   "cell_type": "code",
   "execution_count": 2,
   "id": "ba976950-e202-40ea-82e8-ba41cce8cf61",
   "metadata": {
    "vscode": {
     "languageId": "r"
    }
   },
   "outputs": [
    {
     "data": {
      "text/html": [
       "'c:/Users/damsara/Desktop/second year/Second Sem/Laboratory 2 (R , Octave )/R/Practicals/Lab sheet 06'"
      ],
      "text/latex": [
       "'c:/Users/damsara/Desktop/second year/Second Sem/Laboratory 2 (R , Octave )/R/Practicals/Lab sheet 06'"
      ],
      "text/markdown": [
       "'c:/Users/damsara/Desktop/second year/Second Sem/Laboratory 2 (R , Octave )/R/Practicals/Lab sheet 06'"
      ],
      "text/plain": [
       "[1] \"c:/Users/damsara/Desktop/second year/Second Sem/Laboratory 2 (R , Octave )/R/Practicals/Lab sheet 06\""
      ]
     },
     "metadata": {},
     "output_type": "display_data"
    }
   ],
   "source": [
    "getwd()"
   ]
  },
  {
   "cell_type": "code",
   "execution_count": 29,
   "id": "3b989003-efce-4c3f-a3b2-9236f8f97eea",
   "metadata": {
    "vscode": {
     "languageId": "r"
    }
   },
   "outputs": [],
   "source": [
    "setwd(\"C:/Users/damsara/Desktop/jupyter\")"
   ]
  },
  {
   "cell_type": "code",
   "execution_count": 30,
   "id": "22cde633-0da3-4d8c-8c96-ddb36558905a",
   "metadata": {
    "vscode": {
     "languageId": "r"
    }
   },
   "outputs": [],
   "source": [
    "heart_info <- read.csv(\"heart.csv\")"
   ]
  },
  {
   "cell_type": "code",
   "execution_count": 31,
   "id": "be4eafa1-5954-4476-b2eb-51f9d1ed5906",
   "metadata": {
    "vscode": {
     "languageId": "r"
    }
   },
   "outputs": [
    {
     "data": {
      "text/html": [
       "<table class=\"dataframe\">\n",
       "<caption>A data.frame: 6 × 12</caption>\n",
       "<thead>\n",
       "\t<tr><th></th><th scope=col>Age</th><th scope=col>Sex</th><th scope=col>ChestPainType</th><th scope=col>RestingBP</th><th scope=col>Cholesterol</th><th scope=col>FastingBS</th><th scope=col>RestingECG</th><th scope=col>MaxHR</th><th scope=col>ExerciseAngina</th><th scope=col>Oldpeak</th><th scope=col>ST_Slope</th><th scope=col>HeartDisease</th></tr>\n",
       "\t<tr><th></th><th scope=col>&lt;int&gt;</th><th scope=col>&lt;chr&gt;</th><th scope=col>&lt;chr&gt;</th><th scope=col>&lt;int&gt;</th><th scope=col>&lt;int&gt;</th><th scope=col>&lt;int&gt;</th><th scope=col>&lt;chr&gt;</th><th scope=col>&lt;int&gt;</th><th scope=col>&lt;chr&gt;</th><th scope=col>&lt;dbl&gt;</th><th scope=col>&lt;chr&gt;</th><th scope=col>&lt;int&gt;</th></tr>\n",
       "</thead>\n",
       "<tbody>\n",
       "\t<tr><th scope=row>1</th><td>40</td><td>M</td><td>ATA</td><td>140</td><td>289</td><td>0</td><td>Normal</td><td>172</td><td>N</td><td>0.0</td><td>Up  </td><td>0</td></tr>\n",
       "\t<tr><th scope=row>2</th><td>49</td><td>F</td><td>NAP</td><td>160</td><td>180</td><td>0</td><td>Normal</td><td>156</td><td>N</td><td>1.0</td><td>Flat</td><td>1</td></tr>\n",
       "\t<tr><th scope=row>3</th><td>37</td><td>M</td><td>ATA</td><td>130</td><td>283</td><td>0</td><td>ST    </td><td> 98</td><td>N</td><td>0.0</td><td>Up  </td><td>0</td></tr>\n",
       "\t<tr><th scope=row>4</th><td>48</td><td>F</td><td>ASY</td><td>138</td><td>214</td><td>0</td><td>Normal</td><td>108</td><td>Y</td><td>1.5</td><td>Flat</td><td>1</td></tr>\n",
       "\t<tr><th scope=row>5</th><td>54</td><td>M</td><td>NAP</td><td>150</td><td>195</td><td>0</td><td>Normal</td><td>122</td><td>N</td><td>0.0</td><td>Up  </td><td>0</td></tr>\n",
       "\t<tr><th scope=row>6</th><td>39</td><td>M</td><td>NAP</td><td>120</td><td>339</td><td>0</td><td>Normal</td><td>170</td><td>N</td><td>0.0</td><td>Up  </td><td>0</td></tr>\n",
       "</tbody>\n",
       "</table>\n"
      ],
      "text/latex": [
       "A data.frame: 6 × 12\n",
       "\\begin{tabular}{r|llllllllllll}\n",
       "  & Age & Sex & ChestPainType & RestingBP & Cholesterol & FastingBS & RestingECG & MaxHR & ExerciseAngina & Oldpeak & ST\\_Slope & HeartDisease\\\\\n",
       "  & <int> & <chr> & <chr> & <int> & <int> & <int> & <chr> & <int> & <chr> & <dbl> & <chr> & <int>\\\\\n",
       "\\hline\n",
       "\t1 & 40 & M & ATA & 140 & 289 & 0 & Normal & 172 & N & 0.0 & Up   & 0\\\\\n",
       "\t2 & 49 & F & NAP & 160 & 180 & 0 & Normal & 156 & N & 1.0 & Flat & 1\\\\\n",
       "\t3 & 37 & M & ATA & 130 & 283 & 0 & ST     &  98 & N & 0.0 & Up   & 0\\\\\n",
       "\t4 & 48 & F & ASY & 138 & 214 & 0 & Normal & 108 & Y & 1.5 & Flat & 1\\\\\n",
       "\t5 & 54 & M & NAP & 150 & 195 & 0 & Normal & 122 & N & 0.0 & Up   & 0\\\\\n",
       "\t6 & 39 & M & NAP & 120 & 339 & 0 & Normal & 170 & N & 0.0 & Up   & 0\\\\\n",
       "\\end{tabular}\n"
      ],
      "text/markdown": [
       "\n",
       "A data.frame: 6 × 12\n",
       "\n",
       "| <!--/--> | Age &lt;int&gt; | Sex &lt;chr&gt; | ChestPainType &lt;chr&gt; | RestingBP &lt;int&gt; | Cholesterol &lt;int&gt; | FastingBS &lt;int&gt; | RestingECG &lt;chr&gt; | MaxHR &lt;int&gt; | ExerciseAngina &lt;chr&gt; | Oldpeak &lt;dbl&gt; | ST_Slope &lt;chr&gt; | HeartDisease &lt;int&gt; |\n",
       "|---|---|---|---|---|---|---|---|---|---|---|---|---|\n",
       "| 1 | 40 | M | ATA | 140 | 289 | 0 | Normal | 172 | N | 0.0 | Up   | 0 |\n",
       "| 2 | 49 | F | NAP | 160 | 180 | 0 | Normal | 156 | N | 1.0 | Flat | 1 |\n",
       "| 3 | 37 | M | ATA | 130 | 283 | 0 | ST     |  98 | N | 0.0 | Up   | 0 |\n",
       "| 4 | 48 | F | ASY | 138 | 214 | 0 | Normal | 108 | Y | 1.5 | Flat | 1 |\n",
       "| 5 | 54 | M | NAP | 150 | 195 | 0 | Normal | 122 | N | 0.0 | Up   | 0 |\n",
       "| 6 | 39 | M | NAP | 120 | 339 | 0 | Normal | 170 | N | 0.0 | Up   | 0 |\n",
       "\n"
      ],
      "text/plain": [
       "  Age Sex ChestPainType RestingBP Cholesterol FastingBS RestingECG MaxHR\n",
       "1 40  M   ATA           140       289         0         Normal     172  \n",
       "2 49  F   NAP           160       180         0         Normal     156  \n",
       "3 37  M   ATA           130       283         0         ST          98  \n",
       "4 48  F   ASY           138       214         0         Normal     108  \n",
       "5 54  M   NAP           150       195         0         Normal     122  \n",
       "6 39  M   NAP           120       339         0         Normal     170  \n",
       "  ExerciseAngina Oldpeak ST_Slope HeartDisease\n",
       "1 N              0.0     Up       0           \n",
       "2 N              1.0     Flat     1           \n",
       "3 N              0.0     Up       0           \n",
       "4 Y              1.5     Flat     1           \n",
       "5 N              0.0     Up       0           \n",
       "6 N              0.0     Up       0           "
      ]
     },
     "metadata": {},
     "output_type": "display_data"
    }
   ],
   "source": [
    "head(heart_info)"
   ]
  },
  {
   "cell_type": "code",
   "execution_count": 32,
   "id": "a5063ea5-8dad-4cc6-8b03-c853b3a7fe2f",
   "metadata": {
    "vscode": {
     "languageId": "r"
    }
   },
   "outputs": [
    {
     "data": {
      "text/plain": [
       "      Age            Sex            ChestPainType        RestingBP    \n",
       " Min.   :28.00   Length:918         Length:918         Min.   :  0.0  \n",
       " 1st Qu.:47.00   Class :character   Class :character   1st Qu.:120.0  \n",
       " Median :54.00   Mode  :character   Mode  :character   Median :130.0  \n",
       " Mean   :53.51                                         Mean   :132.4  \n",
       " 3rd Qu.:60.00                                         3rd Qu.:140.0  \n",
       " Max.   :77.00                                         Max.   :200.0  \n",
       "  Cholesterol      FastingBS       RestingECG            MaxHR      \n",
       " Min.   :  0.0   Min.   :0.0000   Length:918         Min.   : 60.0  \n",
       " 1st Qu.:173.2   1st Qu.:0.0000   Class :character   1st Qu.:120.0  \n",
       " Median :223.0   Median :0.0000   Mode  :character   Median :138.0  \n",
       " Mean   :198.8   Mean   :0.2331                      Mean   :136.8  \n",
       " 3rd Qu.:267.0   3rd Qu.:0.0000                      3rd Qu.:156.0  \n",
       " Max.   :603.0   Max.   :1.0000                      Max.   :202.0  \n",
       " ExerciseAngina        Oldpeak          ST_Slope          HeartDisease   \n",
       " Length:918         Min.   :-2.6000   Length:918         Min.   :0.0000  \n",
       " Class :character   1st Qu.: 0.0000   Class :character   1st Qu.:0.0000  \n",
       " Mode  :character   Median : 0.6000   Mode  :character   Median :1.0000  \n",
       "                    Mean   : 0.8874                      Mean   :0.5534  \n",
       "                    3rd Qu.: 1.5000                      3rd Qu.:1.0000  \n",
       "                    Max.   : 6.2000                      Max.   :1.0000  "
      ]
     },
     "metadata": {},
     "output_type": "display_data"
    }
   ],
   "source": [
    "summary(heart_info)"
   ]
  },
  {
   "cell_type": "code",
   "execution_count": 33,
   "id": "32087055-29c8-455b-9393-6481f4d0a40d",
   "metadata": {
    "vscode": {
     "languageId": "r"
    }
   },
   "outputs": [
    {
     "data": {
      "text/html": [
       "0"
      ],
      "text/latex": [
       "0"
      ],
      "text/markdown": [
       "0"
      ],
      "text/plain": [
       "[1] 0"
      ]
     },
     "metadata": {},
     "output_type": "display_data"
    }
   ],
   "source": [
    "sum(is.na(heart_info))"
   ]
  },
  {
   "cell_type": "code",
   "execution_count": 34,
   "id": "a69884a7-0118-425d-8a47-fa8e6ac45641",
   "metadata": {
    "vscode": {
     "languageId": "r"
    }
   },
   "outputs": [],
   "source": [
    "heart_info <- na.omit(heart_info)"
   ]
  },
  {
   "cell_type": "code",
   "execution_count": 35,
   "id": "a4747c7e-c184-4c37-8982-eb5dbdf8cbc6",
   "metadata": {
    "vscode": {
     "languageId": "r"
    }
   },
   "outputs": [
    {
     "data": {
      "text/plain": [
       "      Age            Sex            ChestPainType        RestingBP    \n",
       " Min.   :28.00   Length:918         Length:918         Min.   :  0.0  \n",
       " 1st Qu.:47.00   Class :character   Class :character   1st Qu.:120.0  \n",
       " Median :54.00   Mode  :character   Mode  :character   Median :130.0  \n",
       " Mean   :53.51                                         Mean   :132.4  \n",
       " 3rd Qu.:60.00                                         3rd Qu.:140.0  \n",
       " Max.   :77.00                                         Max.   :200.0  \n",
       "  Cholesterol      FastingBS       RestingECG            MaxHR      \n",
       " Min.   :  0.0   Min.   :0.0000   Length:918         Min.   : 60.0  \n",
       " 1st Qu.:173.2   1st Qu.:0.0000   Class :character   1st Qu.:120.0  \n",
       " Median :223.0   Median :0.0000   Mode  :character   Median :138.0  \n",
       " Mean   :198.8   Mean   :0.2331                      Mean   :136.8  \n",
       " 3rd Qu.:267.0   3rd Qu.:0.0000                      3rd Qu.:156.0  \n",
       " Max.   :603.0   Max.   :1.0000                      Max.   :202.0  \n",
       " ExerciseAngina        Oldpeak          ST_Slope          HeartDisease   \n",
       " Length:918         Min.   :-2.6000   Length:918         Min.   :0.0000  \n",
       " Class :character   1st Qu.: 0.0000   Class :character   1st Qu.:0.0000  \n",
       " Mode  :character   Median : 0.6000   Mode  :character   Median :1.0000  \n",
       "                    Mean   : 0.8874                      Mean   :0.5534  \n",
       "                    3rd Qu.: 1.5000                      3rd Qu.:1.0000  \n",
       "                    Max.   : 6.2000                      Max.   :1.0000  "
      ]
     },
     "metadata": {},
     "output_type": "display_data"
    }
   ],
   "source": [
    "summary(heart_info)"
   ]
  },
  {
   "cell_type": "code",
   "execution_count": 36,
   "id": "e9580330-a606-4e2b-9881-b90869dd8a72",
   "metadata": {
    "vscode": {
     "languageId": "r"
    }
   },
   "outputs": [
    {
     "name": "stdout",
     "output_type": "stream",
     "text": [
      "                     Age   RestingBP Cholesterol   FastingBS      MaxHR\n",
      "Age           1.00000000  0.25439936 -0.09528177  0.19803907 -0.3820447\n",
      "RestingBP     0.25439936  1.00000000  0.10089294  0.07019334 -0.1121350\n",
      "Cholesterol  -0.09528177  0.10089294  1.00000000 -0.26097433  0.2357924\n",
      "FastingBS     0.19803907  0.07019334 -0.26097433  1.00000000 -0.1314385\n",
      "MaxHR        -0.38204468 -0.11213500  0.23579240 -0.13143849  1.0000000\n",
      "Oldpeak       0.25861154  0.16480304  0.05014811  0.05269786 -0.1606906\n",
      "HeartDisease  0.28203851  0.10758898 -0.23274064  0.26729119 -0.4004208\n",
      "                 Oldpeak HeartDisease\n",
      "Age           0.25861154    0.2820385\n",
      "RestingBP     0.16480304    0.1075890\n",
      "Cholesterol   0.05014811   -0.2327406\n",
      "FastingBS     0.05269786    0.2672912\n",
      "MaxHR        -0.16069055   -0.4004208\n",
      "Oldpeak       1.00000000    0.4039507\n",
      "HeartDisease  0.40395072    1.0000000\n"
     ]
    }
   ],
   "source": [
    "correlation_matrix <- cor(heart_info[, sapply(heart_info, is.numeric)])\n",
    "print(correlation_matrix)"
   ]
  },
  {
   "cell_type": "code",
   "execution_count": 44,
   "id": "235240b1-2cd1-49c0-bc41-9ec286188c5b",
   "metadata": {
    "vscode": {
     "languageId": "r"
    }
   },
   "outputs": [
    {
     "data": {
      "image/png": "[encoded data removed]",
      "text/plain": [
       "plot without title"
      ]
     },
     "metadata": {
      "image/png": {
       "height": 420,
       "width": 420
      }
     },
     "output_type": "display_data"
    }
   ],
   "source": [
    "ggplot(heart_info, aes(x = Age)) +\n",
    "  geom_histogram(binwidth = 5, fill = \"yellow\", color = \"black\") +\n",
    "  ggtitle(\"Distribution of Age\") +\n",
    "  xlab(\"Age\") +\n",
    "  ylab(\"Frequency\")"
   ]
  },
  {
   "cell_type": "code",
   "execution_count": 38,
   "id": "610ffa85-eb9c-4532-ab2c-1a073446f68c",
   "metadata": {
    "vscode": {
     "languageId": "r"
    }
   },
   "outputs": [
    {
     "data": {
      "image/png": "[encoded data removed]",
      "text/plain": [
       "plot without title"
      ]
     },
     "metadata": {
      "image/png": {
       "height": 420,
       "width": 420
      }
     },
     "output_type": "display_data"
    }
   ],
   "source": [
    "ggplot(heart_info, aes(x = as.factor(HeartDisease), y = RestingBP)) +\n",
    "  geom_boxplot(fill = \"orange\") +\n",
    "  ggtitle(\"Resting Blood Pressure by Heart Disease\") +\n",
    "  xlab(\"Heart Disease\") +\n",
    "  ylab(\"Resting Blood Pressure\")"
   ]
  },
  {
   "cell_type": "code",
   "execution_count": 46,
   "id": "b363f0bf-b0eb-4105-95be-5811be4793d4",
   "metadata": {
    "vscode": {
     "languageId": "r"
    }
   },
   "outputs": [
    {
     "data": {
      "image/png": "[encoded data removed]",
      "text/plain": [
       "plot without title"
      ]
     },
     "metadata": {
      "image/png": {
       "height": 420,
       "width": 420
      }
     },
     "output_type": "display_data"
    }
   ],
   "source": [
    "ggplot(heart_info, aes(x = Age, y = MaxHR, color = as.factor(HeartDisease))) +\n",
    "  geom_point(alpha = 0.6) +\n",
    "  ggtitle(\"Age vs. Max Heart Rate\") +\n",
    "  xlab(\"Age\") +\n",
    "  ylab(\"Max Heart Rate\") +\n",
    "  scale_color_manual(values = c(\"yellow\", \"red\"), name = \"Heart Disease\")"
   ]
  },
  {
   "cell_type": "code",
   "execution_count": 40,
   "id": "76ba7017-6f4f-465a-9fc3-a95cb912f9e8",
   "metadata": {
    "scrolled": true,
    "vscode": {
     "languageId": "r"
    }
   },
   "outputs": [
    {
     "data": {
      "image/png": "[encoded data removed]",
      "text/plain": [
       "plot without title"
      ]
     },
     "metadata": {
      "image/png": {
       "height": 420,
       "width": 420
      }
     },
     "output_type": "display_data"
    }
   ],
   "source": [
    "ggplot(heart_info, aes(x = ChestPainType, fill = as.factor(HeartDisease))) +\n",
    "  geom_bar(position = \"dodge\") +\n",
    "  ggtitle(\"Chest Pain Type by Heart Disease\") +\n",
    "  xlab(\"Chest Pain Type\") +\n",
    "  ylab(\"Count\") +\n",
    "  scale_fill_manual(values = c(\"blue\", \"red\"), name = \"Heart Disease\")"
   ]
  },
  {
   "cell_type": "code",
   "execution_count": 41,
   "id": "e9826e43-d7df-4e15-add8-3754338c89a1",
   "metadata": {
    "vscode": {
     "languageId": "r"
    }
   },
   "outputs": [
    {
     "name": "stdout",
     "output_type": "stream",
     "text": [
      "Mean Age: 53.51089 \n",
      "Median Age: 54 \n",
      "Standard Deviation of Age: 9.432617 \n"
     ]
    }
   ],
   "source": [
    "# Statistical Analysis\n",
    "\n",
    "mean_age <- mean(heart_info$Age)\n",
    "median_age <- median(heart_info$Age)\n",
    "sd_age <- sd(heart_info$Age)\n",
    "\n",
    "cat(\"Mean Age:\", mean_age, \"\\n\")\n",
    "cat(\"Median Age:\", median_age, \"\\n\")\n",
    "cat(\"Standard Deviation of Age:\", sd_age, \"\\n\")"
   ]
  },
  {
   "cell_type": "code",
   "execution_count": 42,
   "id": "95a15e19-2a0a-4e20-b084-5607350a8461",
   "metadata": {
    "vscode": {
     "languageId": "r"
    }
   },
   "outputs": [
    {
     "name": "stdout",
     "output_type": "stream",
     "text": [
      "\n",
      "\tWelch Two Sample t-test\n",
      "\n",
      "data:  RestingBP by HeartDisease\n",
      "t = -3.3395, df = 915.14, p-value = 0.0008732\n",
      "alternative hypothesis: true difference in means between group 0 and group 1 is not equal to 0\n",
      "95 percent confidence interval:\n",
      " -6.357955 -1.651148\n",
      "sample estimates:\n",
      "mean in group 0 mean in group 1 \n",
      "       130.1805        134.1850 \n",
      "\n"
     ]
    }
   ],
   "source": [
    "t_test_result <- t.test(RestingBP ~ HeartDisease, data = heart_info)\n",
    "print(t_test_result)"
   ]
  },
  {
   "cell_type": "code",
   "execution_count": 43,
   "id": "b785efb1-3391-44ff-891c-4dc700e83b28",
   "metadata": {
    "vscode": {
     "languageId": "r"
    }
   },
   "outputs": [
    {
     "data": {
      "text/plain": [
       "               Df Sum Sq Mean Sq F value Pr(>F)    \n",
       "ChestPainType   3  79522   26507   47.05 <2e-16 ***\n",
       "Residuals     914 514903     563                   \n",
       "---\n",
       "Signif. codes:  0 '***' 0.001 '**' 0.01 '*' 0.05 '.' 0.1 ' ' 1"
      ]
     },
     "metadata": {},
     "output_type": "display_data"
    }
   ],
   "source": [
    "anova_result <- aov(MaxHR ~ ChestPainType, data = heart_info)\n",
    "summary(anova_result)"
   ]
  }
 ],
 "metadata": {
  "kernelspec": {
   "display_name": "R",
   "language": "R",
   "name": "ir"
  },
  "language_info": {
   "codemirror_mode": "r",
   "file_extension": ".r",
   "mimetype": "text/x-r-source",
   "name": "R",
   "pygments_lexer": "r",
   "version": "4.4.2"
  }
 },
 "nbformat": 4,
 "nbformat_minor": 5
}
