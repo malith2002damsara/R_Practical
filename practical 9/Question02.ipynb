library(datasets)
library(ggplot2)

data("Salaries")

num_elements <- nrow(Salaries)
print(paste("Number of elements in the dataset:", num_elements))

summary(Salaries)

ggplot(Salaries, aes(x = yrs.service, y = salary)) +
  geom_point() +
  ggtitle("Years of Service vs. Salary of Professors") +
  xlab("Years of Service") +
  ylab("Salary (in dollars)")

ggplot(Salaries, aes(x = yrs.service, y = salary)) +
  geom_point() +
  geom_smooth(method = "lm", color = "red") +
  ggtitle("Years of Service vs. Salary of Professors") +
  xlab("Years of Service") +
  ylab("Salary (in dollars)")

model <- lm(salary ~ yrs.service, data = Salaries)
summary(model)

intercept <- coef(model)[1]
slope <- coef(model)[2]
print(paste("Linear regression formula: salary =", intercept, "+", slope, "* yrs.service"))

r_squared <- summary(model)$r.squared
print(paste("R-squared value:", r_squared))
print("The R-squared value indicates the proportion of the variance in the dependent variable that is predictable from the independent variable.")


p_value <- summary(model)$coefficients[2, 4]
if (p_value < 0.05) {
  print("The predictor (yrs.service) is statistically significant at the 5% significance level.")
} else {
  print("The predictor (yrs.service) is not statistically significant at the 5% significance level.")
}
