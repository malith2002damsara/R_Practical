{
 "cells": [
  {
   "cell_type": "code",
   "execution_count": 1,
   "id": "6f32706c-3676-47a3-97e9-c1afbcad0275",
   "metadata": {},
   "outputs": [
    {
     "data": {
      "text/html": [
       "'C:/Users/damsara'"
      ],
      "text/latex": [
       "'C:/Users/damsara'"
      ],
      "text/markdown": [
       "'C:/Users/damsara'"
      ],
      "text/plain": [
       "[1] \"C:/Users/damsara\""
      ]
     },
     "metadata": {},
     "output_type": "display_data"
    }
   ],
   "source": [
    "getwd()"
   ]
  },
  {
   "cell_type": "code",
   "execution_count": 2,
   "id": "7d76f3b5-1542-4dfd-bf3e-0e289fb2a86b",
   "metadata": {},
   "outputs": [],
   "source": [
    "library(ggplot2)"
   ]
  },
  {
   "cell_type": "code",
   "execution_count": 3,
   "id": "4aac1b0b-3686-4e18-ac0a-d0896f5ee7d8",
   "metadata": {},
   "outputs": [],
   "source": [
    "set.seed(12345)"
   ]
  },
  {
   "cell_type": "code",
   "execution_count": 4,
   "id": "04ef0735-28e4-4c3d-9cae-81d68a2d731b",
   "metadata": {},
   "outputs": [],
   "source": [
    "student_ID <- 1001:1020"
   ]
  },
  {
   "cell_type": "code",
   "execution_count": 13,
   "id": "dfab3b4b-c33d-4834-a51b-66a26ac211f7",
   "metadata": {},
   "outputs": [],
   "source": [
    "gender <- sample(c(\"Male\", \"Female\"), 20, replace = TRUE, prob = c(3/5, 2/5))"
   ]
  },
  {
   "cell_type": "code",
   "execution_count": 8,
   "id": "e3f25f6e-554e-4453-94c3-9ef8ead0ecc2",
   "metadata": {},
   "outputs": [],
   "source": [
    "age <- sample(19:21, 20, replace = TRUE)"
   ]
  },
  {
   "cell_type": "code",
   "execution_count": 9,
   "id": "6ebd42e4-f113-4759-8d2e-80edc2d4b0c1",
   "metadata": {},
   "outputs": [],
   "source": [
    "degree_program <- sample(c(\"IS\", \"CS\", \"SE\"), 20, replace = TRUE)"
   ]
  },
  {
   "cell_type": "code",
   "execution_count": 10,
   "id": "387808c6-d513-4f11-a963-74c1ccbf2e80",
   "metadata": {},
   "outputs": [],
   "source": [
    "mahapola_scholarship <- rep(6500, 20)"
   ]
  },
  {
   "cell_type": "code",
   "execution_count": 11,
   "id": "60fc31b5-9936-4304-a3ad-39e162500d5d",
   "metadata": {},
   "outputs": [],
   "source": [
    "special_scholarship <- sample(seq(2000, 5000, by = 250), 20, replace = TRUE)"
   ]
  },
  {
   "cell_type": "code",
   "execution_count": 14,
   "id": "f56aad36-251d-44ca-ab83-e60361f2a7e4",
   "metadata": {},
   "outputs": [],
   "source": [
    "StudentData <- data.frame(\n",
    "  StudentID = student_ID,\n",
    "  Gender = gender,\n",
    "  Age = age,\n",
    "  DegreeProgram = degree_program,\n",
    "  MahapolaScholarship = mahapola_scholarship,\n",
    "  SpecialScholarshipStipend = special_scholarship\n",
    ")"
   ]
  },
  {
   "cell_type": "code",
   "execution_count": 15,
   "id": "0572067a-3739-4bdc-a7b5-6518c859aa7e",
   "metadata": {},
   "outputs": [
    {
     "name": "stdout",
     "output_type": "stream",
     "text": [
      "   StudentID Gender Age DegreeProgram MahapolaScholarship\n",
      "1       1001 Female  21            IS                6500\n",
      "2       1002 Female  21            CS                6500\n",
      "3       1003   Male  19            SE                6500\n",
      "4       1004   Male  21            SE                6500\n",
      "5       1005 Female  19            CS                6500\n",
      "6       1006   Male  19            SE                6500\n",
      "7       1007 Female  20            SE                6500\n",
      "8       1008 Female  20            SE                6500\n",
      "9       1009 Female  21            CS                6500\n",
      "10      1010 Female  21            SE                6500\n",
      "11      1011 Female  19            SE                6500\n",
      "12      1012 Female  21            SE                6500\n",
      "13      1013   Male  21            IS                6500\n",
      "14      1014   Male  19            CS                6500\n",
      "15      1015 Female  20            SE                6500\n",
      "16      1016   Male  21            CS                6500\n",
      "17      1017 Female  19            IS                6500\n",
      "18      1018   Male  21            SE                6500\n",
      "19      1019 Female  20            IS                6500\n",
      "20      1020   Male  21            SE                6500\n",
      "   SpecialScholarshipStipend\n",
      "1                       2750\n",
      "2                       4000\n",
      "3                       4500\n",
      "4                       2000\n",
      "5                       2500\n",
      "6                       4250\n",
      "7                       3500\n",
      "8                       4250\n",
      "9                       4250\n",
      "10                      3500\n",
      "11                      2750\n",
      "12                      4750\n",
      "13                      4250\n",
      "14                      2750\n",
      "15                      5000\n",
      "16                      4000\n",
      "17                      2250\n",
      "18                      3750\n",
      "19                      4250\n",
      "20                      2000\n"
     ]
    }
   ],
   "source": [
    "print(StudentData)"
   ]
  },
  {
   "cell_type": "code",
   "execution_count": 16,
   "id": "7f0bc8e2-6d71-4eb8-9747-e62ac6f63ae9",
   "metadata": {},
   "outputs": [],
   "source": [
    "StudentData$net_schol <- StudentData$MahapolaScholarship + StudentData$SpecialScholarshipStipend"
   ]
  },
  {
   "cell_type": "code",
   "execution_count": 17,
   "id": "2f6d68a2-f0fb-4559-99f3-55072457d7c3",
   "metadata": {},
   "outputs": [
    {
     "name": "stdout",
     "output_type": "stream",
     "text": [
      "[1] 10500  9000 10750  9250 10500\n"
     ]
    }
   ],
   "source": [
    "CS_net_schol <- StudentData[StudentData$DegreeProgram == \"CS\", \"net_schol\"]\n",
    "print(CS_net_schol)"
   ]
  },
  {
   "cell_type": "code",
   "execution_count": 18,
   "id": "c19b0948-d16b-4460-9702-988f4632222d",
   "metadata": {},
   "outputs": [
    {
     "name": "stdout",
     "output_type": "stream",
     "text": [
      " [1] 1001 1002 1003 1006 1007 1008 1009 1010 1011 1012 1013 1014 1015 1016 1018\n",
      "[16] 1019\n"
     ]
    }
   ],
   "source": [
    "High_Schol <- StudentData[StudentData$net_schol > 9000, \"StudentID\"]\n",
    "print(High_Schol)"
   ]
  },
  {
   "cell_type": "code",
   "execution_count": 19,
   "id": "20afd284-a330-47ef-96b7-98c1e9f43c14",
   "metadata": {},
   "outputs": [
    {
     "name": "stdout",
     "output_type": "stream",
     "text": [
      "[1] 1017\n"
     ]
    }
   ],
   "source": [
    "Mid_Schol <- StudentData[StudentData$DegreeProgram == \"IS\" & StudentData$net_schol > 7500 & StudentData$net_schol < 9000, \"StudentID\"]\n",
    "print(Mid_Schol)"
   ]
  },
  {
   "cell_type": "code",
   "execution_count": 20,
   "id": "a2ccb4df-efc3-48d1-acbe-02c326790cb5",
   "metadata": {},
   "outputs": [
    {
     "data": {
      "image/png": "[encoded data removed]",
      "text/plain": [
       "Plot with title \"Distribution of Students Based on Degree Program\""
      ]
     },
     "metadata": {
      "image/png": {
       "height": 420,
       "width": 420
      }
     },
     "output_type": "display_data"
    }
   ],
   "source": [
    "degree_distribution <- table(StudentData$DegreeProgram)\n",
    "barplot(degree_distribution, main = \"Distribution of Students Based on Degree Program\", xlab = \"Degree Program\", ylab = \"Number of Students\", col = \"blue\")"
   ]
  },
  {
   "cell_type": "code",
   "execution_count": null,
   "id": "56e90961-77e9-4dfc-8de8-7e90fdc1ae47",
   "metadata": {},
   "outputs": [],
   "source": []
  }
 ],
 "metadata": {
  "kernelspec": {
   "display_name": "R",
   "language": "R",
   "name": "ir"
  },
  "language_info": {
   "codemirror_mode": "r",
   "file_extension": ".r",
   "mimetype": "text/x-r-source",
   "name": "R",
   "pygments_lexer": "r",
   "version": "4.4.2"
  }
 },
 "nbformat": 4,
 "nbformat_minor": 5
}
