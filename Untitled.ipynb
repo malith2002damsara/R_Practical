{
 "cells": [
  {
   "cell_type": "code",
   "execution_count": null,
   "id": "62534c09-9561-4099-a6b1-29c6ebc5a471",
   "metadata": {},
   "outputs": [],
   "source": []
  }
 ],
 "metadata": {
  "kernelspec": {
   "display_name": "R",
   "language": "R",
   "name": "ir"
  },
  "language_info": {
   "codemirror_mode": "r",
   "file_extension": ".r",
   "mimetype": "text/x-r-source",
   "name": "R",
   "pygments_lexer": "r",
   "version": "4.4.2"
  }
 },
 "nbformat": 4,
 "nbformat_minor": 5
}
