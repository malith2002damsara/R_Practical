{
 "cells": [
  {
   "cell_type": "code",
   "execution_count": 24,
   "id": "0a3ac132-fe89-474a-babb-3072eb04f431",
   "metadata": {},
   "outputs": [
    {
     "name": "stdout",
     "output_type": "stream",
     "text": [
      "t-statistic: -1.0606601717798214\n",
      "p-value: 0.29404456939442775\n",
      "average test score is not significantly different from 75.\n"
     ]
    }
   ],
   "source": [
    "# Activity 01\n",
    "\n",
    "# part 01\n",
    "\n",
    "sample_size_1 = 50\n",
    "sample_mean_1 = 73.5\n",
    "population_mean_1 = 75\n",
    "std_dev_1 = 10\n",
    "alpha_1 = 0.05\n",
    "\n",
    "t_stat_1 = (sample_mean_1 - population_mean_1) / (std_dev_1 / math.sqrt(sample_size_1))\n",
    "df_1 = sample_size_1 - 1\n",
    "p_value_1 = 2 * stats.t.cdf(-abs(t_stat_1), df_1)\n",
    "\n",
    "# Print result\n",
    "\n",
    "print(\"t-statistic:\", t_stat_1)\n",
    "print(\"p-value:\", p_value_1)\n",
    "if p_value_1 < alpha_1:\n",
    "    print(\"average test score is significantly different from 75.\")\n",
    "else:\n",
    "    print(\"average test score is not significantly different from 75.\")\n"
   ]
  },
  {
   "cell_type": "code",
   "execution_count": 25,
   "id": "bc41ccfb-c7c5-4b51-8029-0e429296808c",
   "metadata": {},
   "outputs": [
    {
     "name": "stdout",
     "output_type": "stream",
     "text": [
      "\n",
      "t-statistic: -2.3491205475536545\n",
      "p-value: 0.011988766739476596\n",
      "production time is less than 30 min.\n"
     ]
    }
   ],
   "source": [
    "# Activity 01\n",
    "\n",
    "# part 02\n",
    "\n",
    "\n",
    "sample_size_2 = 40\n",
    "sample_mean_2 = 28.7\n",
    "population_mean_2 = 30\n",
    "std_dev_2 = 3.5\n",
    "alpha_2 = 0.05\n",
    "\n",
    "t_stat_2 = (sample_mean_2 - population_mean_2) / (std_dev_2 / math.sqrt(sample_size_2))\n",
    "df_2 = sample_size_2 - 1\n",
    "p_value_2 = stats.t.cdf(t_stat_2, df_2)\n",
    "\n",
    "# Print result\n",
    "\n",
    "print(\"\\nt-statistic:\", t_stat_2)\n",
    "print(\"p-value:\", p_value_2)\n",
    "if p_value_2 < alpha_2:\n",
    "    print(\"production time is less than 30 min.\")\n",
    "else:\n",
    "    print(\"production time is not less than 30 min.\")"
   ]
  },
  {
   "cell_type": "code",
   "execution_count": 26,
   "id": "7d8d58ff-07a2-4517-b900-32073f5c297e",
   "metadata": {},
   "outputs": [
    {
     "name": "stdout",
     "output_type": "stream",
     "text": [
      "\n",
      "t-statistic: -2.1466252583998\n",
      "p-value: 0.018687588090517904\n",
      "fuel efficiency is less than 25 MPG.\n"
     ]
    }
   ],
   "source": [
    "# Activity 02\n",
    "\n",
    "# part 01\n",
    "\n",
    "\n",
    "sample_size_3 = 45\n",
    "sample_mean_3 = 24.2\n",
    "population_mean_3 = 25\n",
    "std_dev_3 = 2.5\n",
    "alpha_3 = 0.05\n",
    "\n",
    "t_stat_3 = (sample_mean_3 - population_mean_3) / (std_dev_3 / math.sqrt(sample_size_3))\n",
    "df_3 = sample_size_3 - 1\n",
    "p_value_3 = stats.t.cdf(t_stat_3, df_3)\n",
    "\n",
    "# Print result\n",
    "\n",
    "print(\"\\nt-statistic:\", t_stat_3)\n",
    "print(\"p-value:\", p_value_3)\n",
    "if p_value_3 < alpha_3:\n",
    "    print(\"fuel efficiency is less than 25 MPG.\")\n",
    "else:\n",
    "    print(\"fuel efficiency is not less than 25 MPG.\")\n"
   ]
  },
  {
   "cell_type": "code",
   "execution_count": 27,
   "id": "ff39a71a-0cf1-41c7-91c9-00749b0704f4",
   "metadata": {},
   "outputs": [
    {
     "name": "stdout",
     "output_type": "stream",
     "text": [
      "\n",
      "t-statistic: -1.7677669529663689\n",
      "p-value: 0.04166307987075465\n",
      "average blood pressure is lower than 120.\n"
     ]
    }
   ],
   "source": [
    "# Activity 02\n",
    "\n",
    "# part 02\n",
    "\n",
    "sample_size_4 = 50\n",
    "sample_mean_4 = 118.5\n",
    "population_mean_4 = 120\n",
    "std_dev_4 = 6\n",
    "alpha_4 = 0.05\n",
    "\n",
    "t_stat_4 = (sample_mean_4 - population_mean_4) / (std_dev_4 / math.sqrt(sample_size_4))\n",
    "df_4 = sample_size_4 - 1\n",
    "p_value_4 = stats.t.cdf(t_stat_4, df_4)\n",
    "\n",
    "# Print result\n",
    "\n",
    "print(\"\\nt-statistic:\", t_stat_4)\n",
    "print(\"p-value:\", p_value_4)\n",
    "if p_value_4 < alpha_4:\n",
    "    print(\"average blood pressure is lower than 120.\")\n",
    "else:\n",
    "    print(\"average blood pressure is not lower than 120.\")\n"
   ]
  },
  {
   "cell_type": "code",
   "execution_count": 28,
   "id": "592deaef-d6b3-47eb-b72c-6d50dcbf06e2",
   "metadata": {},
   "outputs": [
    {
     "name": "stdout",
     "output_type": "stream",
     "text": [
      "\n",
      "t-statistic: 2.958039891549808\n",
      "p-value: 0.002799822941843666\n",
      "average electricity bill is more than $100.\n"
     ]
    }
   ],
   "source": [
    "# Activity 03\n",
    "\n",
    "# part 01\n",
    "\n",
    "sample_size_5 = 35\n",
    "sample_mean_5 = 104\n",
    "population_mean_5 = 100\n",
    "std_dev_5 = 8\n",
    "alpha_5 = 0.05\n",
    "\n",
    "t_stat_5 = (sample_mean_5 - population_mean_5) / (std_dev_5 / math.sqrt(sample_size_5))\n",
    "df_5 = sample_size_5 - 1\n",
    "p_value_5 = 1 - stats.t.cdf(t_stat_5, df_5)\n",
    "\n",
    "# Print result\n",
    "\n",
    "print(\"\\nt-statistic:\", t_stat_5)\n",
    "print(\"p-value:\", p_value_5)\n",
    "if p_value_5 < alpha_5:\n",
    "    print(\"average electricity bill is more than $100.\")\n",
    "else:\n",
    "    print(\"average electricity bill is not more than $100.\")\n",
    "\n"
   ]
  },
  {
   "cell_type": "code",
   "execution_count": 29,
   "id": "c98da726-0ae6-48d4-a89d-5392b3650a6b",
   "metadata": {},
   "outputs": [
    {
     "name": "stdout",
     "output_type": "stream",
     "text": [
      "\n",
      "t-statistic: 3.794733192202199\n",
      "p-value: 0.0002516068597273602\n",
      "average body temperature is more than 98.6°F.\n"
     ]
    }
   ],
   "source": [
    "# Activity 03\n",
    "\n",
    "# part 02\n",
    "\n",
    "sample_size_6 = 40\n",
    "sample_mean_6 = 98.9\n",
    "population_mean_6 = 98.6\n",
    "std_dev_6 = 0.5\n",
    "alpha_6 = 0.05\n",
    "\n",
    "t_stat_6 = (sample_mean_6 - population_mean_6) / (std_dev_6 / math.sqrt(sample_size_6))\n",
    "df_6 = sample_size_6 - 1\n",
    "p_value_6 = 1 - stats.t.cdf(t_stat_6, df_6)\n",
    "\n",
    "# Print result\n",
    "\n",
    "print(\"\\nt-statistic:\", t_stat_6)\n",
    "print(\"p-value:\", p_value_6)\n",
    "if p_value_6 < alpha_6:\n",
    "    print(\"average body temperature is more than 98.6°F.\")\n",
    "else:\n",
    "    print(\"average body temperature is not more than 98.6°F.\")"
   ]
  },
  {
   "cell_type": "code",
   "execution_count": 30,
   "id": "d9e7c59b-3fc3-465c-bb2a-0780226039a6",
   "metadata": {},
   "outputs": [
    {
     "name": "stdout",
     "output_type": "stream",
     "text": [
      "\n",
      "t-statistic: -2.5\n",
      "p-value: 0.017255743178603535\n",
      "battery life is significantly different from 10 hours.\n"
     ]
    }
   ],
   "source": [
    "# Activity 04\n",
    "\n",
    "# part 01\n",
    "\n",
    "sample_size_7 = 36\n",
    "sample_mean_7 = 9.5\n",
    "population_mean_7 = 10\n",
    "std_dev_7 = 1.2\n",
    "alpha_7 = 0.05\n",
    "\n",
    "t_stat_7 = (sample_mean_7 - population_mean_7) / (std_dev_7 / math.sqrt(sample_size_7))\n",
    "df_7 = sample_size_7 - 1\n",
    "p_value_7 = 2 * stats.t.cdf(-abs(t_stat_7), df_7)\n",
    "\n",
    "# Print result\n",
    "\n",
    "print(\"\\nt-statistic:\", t_stat_7)\n",
    "print(\"p-value:\", p_value_7)\n",
    "if p_value_7 < alpha_7:\n",
    "    print(\"battery life is significantly different from 10 hours.\")\n",
    "else:\n",
    "    print(\"battery life is not significantly different from 10 hours.\")\n",
    "\n",
    "\n",
    "\n"
   ]
  },
  {
   "cell_type": "code",
   "execution_count": 31,
   "id": "9ae733b9-5286-48a6-aa82-4f83a7542936",
   "metadata": {},
   "outputs": [
    {
     "name": "stdout",
     "output_type": "stream",
     "text": [
      "\n",
      "t-statistic: 2.3999999999999986\n",
      "p-value: 0.020322865759833695\n",
      "average waiting time is not significantly different from 15 min.\n"
     ]
    }
   ],
   "source": [
    "# Activity 04\n",
    "\n",
    "# part 02\n",
    "\n",
    "\n",
    "sample_size_8 = 49\n",
    "sample_mean_8 = 16.2\n",
    "population_mean_8 = 15\n",
    "std_dev_8 = 3.5\n",
    "alpha_8 = 0.01\n",
    "\n",
    "t_stat_8 = (sample_mean_8 - population_mean_8) / (std_dev_8 / math.sqrt(sample_size_8))\n",
    "df_8 = sample_size_8 - 1\n",
    "p_value_8 = 2 * stats.t.cdf(-abs(t_stat_8), df_8)\n",
    "\n",
    "# Print result\n",
    "\n",
    "print(\"\\nt-statistic:\", t_stat_8)\n",
    "print(\"p-value:\", p_value_8)\n",
    "if p_value_8 < alpha_8:\n",
    "    print(\"average waiting time is significantly different from 15 min.\")\n",
    "else:\n",
    "    print(\"average waiting time is not significantly different from 15 min.\")"
   ]
  }
 ],
 "metadata": {
  "kernelspec": {
   "display_name": "Python 3 (ipykernel)",
   "language": "python",
   "name": "python3"
  },
  "language_info": {
   "codemirror_mode": {
    "name": "ipython",
    "version": 3
   },
   "file_extension": ".py",
   "mimetype": "text/x-python",
   "name": "python",
   "nbconvert_exporter": "python",
   "pygments_lexer": "ipython3",
   "version": "3.12.2"
  }
 },
 "nbformat": 4,
 "nbformat_minor": 5
}
